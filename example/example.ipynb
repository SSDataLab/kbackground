{
 "cells": [
  {
   "cell_type": "markdown",
   "id": "fcbc3d9b-044e-4179-a169-42b25e1e6732",
   "metadata": {},
   "source": [
    "# Example `KBackground.Estimator` workflow with K2 Campaign 8\n",
    "\n",
    "In this notebook we show how to use the `KBackground` tool to estimate rolling band. You can see a video of the rolling band in this dataset [here](https://www.youtube.com/watch?v=cAc70ErIsSQ)."
   ]
  },
  {
   "cell_type": "code",
   "execution_count": 1,
   "id": "48fe7815-5348-4c95-9732-60d69d779eab",
   "metadata": {},
   "outputs": [],
   "source": [
    "import lightkurve as lk\n",
    "import numpy as np\n",
    "import matplotlib.pyplot as plt\n",
    "plt.style.use('seaborn-white')\n",
    "from kbackground import Estimator\n",
    "from astropy.io import fits\n",
    "from astropy.table import Table"
   ]
  },
  {
   "cell_type": "markdown",
   "id": "46e84672-145f-4b98-bfae-1a04b633443e",
   "metadata": {},
   "source": [
    "First we are going to get a number of the TPFs in a large superstamp in campaign 8. This will let us see a patch of data with a rolling band."
   ]
  },
  {
   "cell_type": "code",
   "execution_count": null,
   "id": "9c27ab6a-221e-4192-8977-202491c748a4",
   "metadata": {},
   "outputs": [],
   "source": [
    "tpfs = []\n",
    "for idx in np.arange(656, 656 + 26):\n",
    "    tpfs.append(lk.search_targetpixelfile(f\"EPIC 200068{idx}\", mission='k2').download())"
   ]
  },
  {
   "cell_type": "markdown",
   "id": "ed0425e3-9f0b-4b5a-93e9-8974340886d7",
   "metadata": {},
   "source": [
    "Next we will extract the row, column and flux values from all the TPFs."
   ]
  },
  {
   "cell_type": "code",
   "execution_count": null,
   "id": "2fa9063f-f8dd-4d59-8216-37f3b3357388",
   "metadata": {},
   "outputs": [],
   "source": [
    "rows, columns, fluxs, cadencenos = [], [], [], []\n",
    "for tpf in tpfs:\n",
    "    column, row = np.meshgrid(np.arange(tpf.column, tpf.shape[2] + tpf.column), np.arange(tpf.row, tpf.shape[1] + tpf.row))\n",
    "    aper = np.ones(tpf.shape[1:], bool)\n",
    "    rows.append(row[aper])\n",
    "    columns.append(column[aper])\n",
    "    fluxs.append(tpf.flux.value[:, aper])\n",
    "    cadencenos.append(tpf.cadenceno)"
   ]
  },
  {
   "cell_type": "markdown",
   "id": "f72548ff-250e-40f0-bb11-3f43052d5f13",
   "metadata": {},
   "source": [
    "Next we can build the `Estimator` object, passing in the row, column, and flux values from all the TPFs."
   ]
  },
  {
   "cell_type": "code",
   "execution_count": null,
   "id": "d1adb604-630e-4565-acef-8812f8c08b29",
   "metadata": {},
   "outputs": [],
   "source": [
    "e = Estimator(np.hstack(rows), np.hstack(columns), np.hstack(fluxs))"
   ]
  },
  {
   "cell_type": "markdown",
   "id": "ff020c03-1014-4ad0-a85e-fa16654ccc58",
   "metadata": {},
   "source": [
    "Under the hood, `KBackground` works on the median subtracted frames, below we plot a median subtracted frame which shows a rolling band."
   ]
  },
  {
   "cell_type": "code",
   "execution_count": null,
   "id": "f37172ca-00c2-4b75-906c-54d4fdf5c94a",
   "metadata": {},
   "outputs": [],
   "source": [
    "plt.scatter(np.hstack(columns), np.hstack(rows), s=1, c=e.flux[870] - np.median(e.flux, axis=0)[None, :], vmin=-30, vmax=30)\n",
    "plt.gca().set_aspect('equal')\n",
    "plt.colorbar()\n",
    "plt.xlabel('Column')\n",
    "plt.ylabel('Row')"
   ]
  },
  {
   "cell_type": "markdown",
   "id": "f45ef6c5-67a0-4dd8-babc-508baa6de680",
   "metadata": {},
   "source": [
    "We can access the model for any frame using"
   ]
  },
  {
   "cell_type": "code",
   "execution_count": null,
   "id": "6e84d926-0659-47f0-85e9-ecc387735dc8",
   "metadata": {},
   "outputs": [],
   "source": [
    "e.model(870)"
   ]
  },
  {
   "cell_type": "markdown",
   "id": "87cb56b5-f77b-49d3-9bd0-87c423b63330",
   "metadata": {},
   "source": [
    "Or a subset using"
   ]
  },
  {
   "cell_type": "code",
   "execution_count": null,
   "id": "4a43d6bb-15d0-4b57-a7b2-f002d81cf4c2",
   "metadata": {},
   "outputs": [],
   "source": [
    "e.model([40, 45, 60])"
   ]
  },
  {
   "cell_type": "markdown",
   "id": "c2f8e913-8dad-4988-a6e1-ff4a50699b00",
   "metadata": {},
   "source": [
    "Or all the frames"
   ]
  },
  {
   "cell_type": "code",
   "execution_count": null,
   "id": "25cc9a63-ef27-43a2-a6da-2bdd03bc88a0",
   "metadata": {},
   "outputs": [],
   "source": [
    "e.model()"
   ]
  },
  {
   "cell_type": "markdown",
   "id": "78c6746a-7237-4ed1-b14d-a9b08a5e076b",
   "metadata": {},
   "source": [
    "We can plot the model for the same frame above."
   ]
  },
  {
   "cell_type": "code",
   "execution_count": null,
   "id": "09e92980-b43e-4b58-bba7-0f4fbc1b3f21",
   "metadata": {},
   "outputs": [],
   "source": [
    "tdx = 890\n",
    "fig, ax = plt.subplots(1, 2, figsize=(15, 4))\n",
    "ax[0].scatter(np.hstack(columns), np.hstack(rows), s=5, c=e.flux[tdx] - np.median(e.flux, axis=0)[None, :], vmin=-30, vmax=30)\n",
    "ax[0].set_aspect('equal')\n",
    "ax[0].set(title='Data', xlabel='Column', ylabel='Row')\n",
    "ax[1].scatter(np.hstack(columns), np.hstack(rows), s=5, c=e.model(tdx), vmin=-30, vmax=30)\n",
    "ax[1].set_aspect('equal')\n",
    "ax[1].set(title='Model', xlabel='Column', ylabel='Row')"
   ]
  },
  {
   "cell_type": "code",
   "execution_count": null,
   "id": "1a3df3ec-5107-4d93-905e-696d52dbbdb1",
   "metadata": {},
   "outputs": [],
   "source": [
    "plt.plot(tpf.time.value, e.flux[:, 5060], label='Data')\n",
    "plt.plot(tpf.time.value, e.model()[:, 5060], label='Model')\n",
    "plt.legend()\n",
    "plt.xlabel('Time [BKJD]')\n",
    "\n",
    "plt.ylabel('Flux [counts]')"
   ]
  }
 ],
 "metadata": {
  "kernelspec": {
   "display_name": "Python 3 (ipykernel)",
   "language": "python",
   "name": "python3"
  },
  "language_info": {
   "codemirror_mode": {
    "name": "ipython",
    "version": 3
   },
   "file_extension": ".py",
   "mimetype": "text/x-python",
   "name": "python",
   "nbconvert_exporter": "python",
   "pygments_lexer": "ipython3",
   "version": "3.8.7"
  }
 },
 "nbformat": 4,
 "nbformat_minor": 5
}
