{
 "cells": [
  {
   "cell_type": "markdown",
   "id": "fcbc3d9b-044e-4179-a169-42b25e1e6732",
   "metadata": {},
   "source": [
    "# Example `KBackground.Estimator` workflow with Kepler TPFs"
   ]
  },
  {
   "cell_type": "code",
   "execution_count": 1,
   "id": "9dd3f873-9977-41bb-8cb1-7bdbba75d806",
   "metadata": {},
   "outputs": [],
   "source": [
    "%load_ext autoreload\n",
    "%autoreload 2"
   ]
  },
  {
   "cell_type": "code",
   "execution_count": 2,
   "id": "48fe7815-5348-4c95-9732-60d69d779eab",
   "metadata": {},
   "outputs": [],
   "source": [
    "import lightkurve as lk\n",
    "import numpy as np\n",
    "import matplotlib.pyplot as plt\n",
    "plt.style.use('seaborn-white')\n",
    "from kbackground import Estimator\n",
    "import astropy.units as u"
   ]
  },
  {
   "cell_type": "markdown",
   "id": "46e84672-145f-4b98-bfae-1a04b633443e",
   "metadata": {},
   "source": [
    "First we are going to get a number of the TPFs in a large superstamp in campaign 8. This will let us see a patch of data with a rolling band."
   ]
  },
  {
   "cell_type": "code",
   "execution_count": 3,
   "id": "b332d770-09c3-4904-a77e-09eccb6a0a0c",
   "metadata": {},
   "outputs": [],
   "source": [
    "tpfs = lk.search_targetpixelfile('KIC 8557374', quarter=5, cadence='long', radius=10 * u.arcmin).download_all()"
   ]
  },
  {
   "cell_type": "markdown",
   "id": "ed0425e3-9f0b-4b5a-93e9-8974340886d7",
   "metadata": {},
   "source": [
    "Next we will extract the row, column and flux values from all the TPFs."
   ]
  },
  {
   "cell_type": "code",
   "execution_count": 4,
   "id": "2fa9063f-f8dd-4d59-8216-37f3b3357388",
   "metadata": {},
   "outputs": [],
   "source": [
    "rows, columns, fluxs, cadencenos = [], [], [], []\n",
    "for tpf in tpfs:\n",
    "    column, row = np.meshgrid(np.arange(tpf.column, tpf.shape[2] + tpf.column), np.arange(tpf.row, tpf.shape[1] + tpf.row))\n",
    "    aper = np.ones(tpf.shape[1:], bool)\n",
    "    rows.append(row[aper])\n",
    "    columns.append(column[aper])\n",
    "    fluxs.append(tpf.flux.value[:, aper])\n",
    "    cadencenos.append(tpf.cadenceno)"
   ]
  },
  {
   "cell_type": "markdown",
   "id": "f72548ff-250e-40f0-bb11-3f43052d5f13",
   "metadata": {},
   "source": [
    "Next we can build the `Estimator` object, passing in the row, column, and flux values from all the TPFs."
   ]
  },
  {
   "cell_type": "code",
   "execution_count": 5,
   "id": "237948bf-f550-493d-93f3-3036ba3e63e5",
   "metadata": {},
   "outputs": [],
   "source": [
    "r, c, f = np.hstack(rows), np.hstack(columns), np.hstack(fluxs)\n",
    "k = np.isfinite(f).all(axis=0)"
   ]
  },
  {
   "cell_type": "code",
   "execution_count": null,
   "id": "d1adb604-630e-4565-acef-8812f8c08b29",
   "metadata": {},
   "outputs": [],
   "source": [
    "e = Estimator(cadencenos[0], r[k], c[k], f[:, k], 15, 30)"
   ]
  },
  {
   "cell_type": "code",
   "execution_count": null,
   "id": "1eacae39-95f4-4f3a-b79c-75e84313dcdb",
   "metadata": {},
   "outputs": [],
   "source": [
    "fig, ax = plt.subplots(1, 2, figsize=(15, 4))\n",
    "ax[0].pcolormesh(cadencenos[0], e.unq_row, e.bf, vmin=-10, vmax=10)\n",
    "ax[0].set(xlabel='Cadence Number', ylabel='Row Number', title='Data')\n",
    "ax[1].pcolormesh(cadencenos[0], e.unq_row, e._model, vmin=-10, vmax=10)\n",
    "ax[0].set(xlabel='Cadence Number', ylabel='Row Number', title='Model')"
   ]
  },
  {
   "cell_type": "code",
   "execution_count": null,
   "id": "f2bbebb0-b6ac-4d48-8661-439db6f20ab6",
   "metadata": {},
   "outputs": [],
   "source": [
    "t = tpf.time.value"
   ]
  },
  {
   "cell_type": "code",
   "execution_count": null,
   "id": "09e92980-b43e-4b58-bba7-0f4fbc1b3f21",
   "metadata": {},
   "outputs": [],
   "source": [
    "tdx = 890\n",
    "fig, ax = plt.subplots(1, 2, figsize=(15, 4))\n",
    "ax[0].scatter(c[k], r[k], s=5, c=e.flux[tdx] - np.median(e.flux, axis=0)[None, :], vmin=-10, vmax=10, cmap='coolwarm')\n",
    "ax[0].set_aspect('equal')\n",
    "ax[0].set(title='Data', xlabel='Column', ylabel='Row')\n",
    "ax[1].scatter(c[k], r[k], s=5, c=e.model[tdx], vmin=-10, vmax=10, cmap='coolwarm')\n",
    "ax[1].set_aspect('equal')\n",
    "ax[1].set(title='Model', xlabel='Column', ylabel='Row')"
   ]
  },
  {
   "cell_type": "code",
   "execution_count": null,
   "id": "1a3df3ec-5107-4d93-905e-696d52dbbdb1",
   "metadata": {},
   "outputs": [],
   "source": [
    "plt.plot(tpf.time.value, e.flux[:, 900], label='Data', c='grey')\n",
    "plt.plot(tpf.time.value, e.flux[:, 900] - e.model[:, 300], label='Data', c='k')\n",
    "plt.plot(tpf.time.value, e.model[:, 900], label='Model', c='r')\n",
    "plt.legend()\n",
    "plt.xlabel('Time [BKJD]')\n",
    "plt.ylabel('Flux [counts]')"
   ]
  },
  {
   "cell_type": "code",
   "execution_count": null,
   "id": "d743ed7b-1851-408e-b20e-54c78602ebac",
   "metadata": {},
   "outputs": [],
   "source": []
  },
  {
   "cell_type": "code",
   "execution_count": null,
   "id": "023f4018-10e3-49a4-8953-e1412deaee22",
   "metadata": {},
   "outputs": [],
   "source": []
  }
 ],
 "metadata": {
  "kernelspec": {
   "display_name": "Python 3 (ipykernel)",
   "language": "python",
   "name": "python3"
  },
  "language_info": {
   "codemirror_mode": {
    "name": "ipython",
    "version": 3
   },
   "file_extension": ".py",
   "mimetype": "text/x-python",
   "name": "python",
   "nbconvert_exporter": "python",
   "pygments_lexer": "ipython3",
   "version": "3.8.7"
  }
 },
 "nbformat": 4,
 "nbformat_minor": 5
}
