{
 "cells": [
  {
   "cell_type": "markdown",
   "id": "fcbc3d9b-044e-4179-a169-42b25e1e6732",
   "metadata": {},
   "source": [
    "# Example `KBackground.Estimator` workflow with Kepler TPFs"
   ]
  },
  {
   "cell_type": "code",
   "execution_count": 1,
   "id": "48fe7815-5348-4c95-9732-60d69d779eab",
   "metadata": {},
   "outputs": [],
   "source": [
    "import lightkurve as lk\n",
    "import numpy as np\n",
    "import matplotlib.pyplot as plt\n",
    "plt.style.use('seaborn-white')\n",
    "from kbackground import Estimator\n",
    "import astropy.units as u"
   ]
  },
  {
   "cell_type": "code",
   "execution_count": 2,
   "id": "d4e56ee8-bafd-4c6c-bd36-ad0d076d79b2",
   "metadata": {},
   "outputs": [],
   "source": [
    "# This let's us have debugging messages!\n",
    "import kbackground\n",
    "kbackground.log.setLevel(\"DEBUG\")"
   ]
  },
  {
   "cell_type": "markdown",
   "id": "46e84672-145f-4b98-bfae-1a04b633443e",
   "metadata": {},
   "source": [
    "First we are going to get a number of the TPFs in a large superstamp in campaign 8. This will let us see a patch of data with a rolling band."
   ]
  },
  {
   "cell_type": "code",
   "execution_count": 3,
   "id": "b332d770-09c3-4904-a77e-09eccb6a0a0c",
   "metadata": {},
   "outputs": [],
   "source": [
    "tpfs = lk.search_targetpixelfile('KIC 8557374', quarter=5, cadence='long', radius=10 * u.arcmin).download_all()"
   ]
  },
  {
   "cell_type": "markdown",
   "id": "ed0425e3-9f0b-4b5a-93e9-8974340886d7",
   "metadata": {},
   "source": [
    "Next we will extract the row, column and flux values from all the TPFs."
   ]
  },
  {
   "cell_type": "code",
   "execution_count": 4,
   "id": "2fa9063f-f8dd-4d59-8216-37f3b3357388",
   "metadata": {},
   "outputs": [],
   "source": [
    "rows, columns, fluxs, mission_bkgs, cadencenos = [], [], [], [], []\n",
    "for tpf in tpfs:\n",
    "    column, row = np.meshgrid(np.arange(tpf.column, tpf.shape[2] + tpf.column), np.arange(tpf.row, tpf.shape[1] + tpf.row))\n",
    "    aper = np.nansum(tpf.flux.value, axis=0) != 0\n",
    "    rows.append(row[aper])\n",
    "    columns.append(column[aper])\n",
    "    fluxs.append(tpf.flux.value[:, aper] + np.nan_to_num(tpf.flux_bkg.value[:, aper]))\n",
    "    cadencenos.append(tpf.cadenceno)"
   ]
  },
  {
   "cell_type": "markdown",
   "id": "f72548ff-250e-40f0-bb11-3f43052d5f13",
   "metadata": {},
   "source": [
    "Next we can build the `Estimator` object, passing in the row, column, and flux values from all the TPFs."
   ]
  },
  {
   "cell_type": "code",
   "execution_count": 5,
   "id": "237948bf-f550-493d-93f3-3036ba3e63e5",
   "metadata": {},
   "outputs": [],
   "source": [
    "r, c, f = np.hstack(rows), np.hstack(columns), np.hstack(fluxs)\n",
    "k = np.isfinite(f).all(axis=0)"
   ]
  },
  {
   "cell_type": "code",
   "execution_count": 6,
   "id": "d1adb604-630e-4565-acef-8812f8c08b29",
   "metadata": {},
   "outputs": [
    {
     "name": "stderr",
     "output_type": "stream",
     "text": [
      "2022-01-20 18:22:27,652 - kbackground.kbackground - DEBUG - new `kbackground` Object. tknotspacing:10, xknotspacing:10\n",
      "2022-01-20 18:22:27,653 - kbackground.kbackground - DEBUG - ntimes x npixels : (4492, 6582)\n",
      "2022-01-20 18:22:29,276 - kbackground.kbackground - DEBUG - unq_row : 705 ... 1212 (444 unique rows)\n",
      "2022-01-20 18:22:29,277 - kbackground.kbackground - DEBUG - Binning flux data\n",
      "2022-01-20 18:22:29,352 - kbackground.kbackground - DEBUG - Binned flux data\n",
      "2022-01-20 18:22:29,352 - kbackground.kbackground - DEBUG - `bf` (444, 4492)\n",
      "2022-01-20 18:22:29,352 - kbackground.kbackground - DEBUG - Making A\n",
      "2022-01-20 18:22:29,360 - kbackground.kbackground - DEBUG - Made `x_spline` (444, 25)\n",
      "2022-01-20 18:22:29,558 - kbackground.kbackground - DEBUG - Made `t_spline` (4492, 466)\n",
      "2022-01-20 18:22:30,156 - kbackground.kbackground - DEBUG - Made `X` (1994448, 25)\n",
      "2022-01-20 18:22:30,169 - kbackground.kbackground - DEBUG - Made `T` (1994448, 466)\n",
      "2022-01-20 18:22:33,564 - kbackground.kbackground - DEBUG - Made `A1`\n",
      "2022-01-20 18:22:33,874 - kbackground.kbackground - DEBUG - Cleaned `A1`\n",
      "2022-01-20 18:22:33,878 - kbackground.kbackground - DEBUG - Made A\n",
      "2022-01-20 18:22:33,883 - kbackground.kbackground - DEBUG - 10/4492 bad frames\n",
      "2022-01-20 18:22:33,883 - kbackground.kbackground - DEBUG - Building bad frame offsets\n",
      "2022-01-20 18:22:33,979 - kbackground.kbackground - DEBUG - Appending bad frame offsets\n",
      "2022-01-20 18:22:35,421 - kbackground.kbackground - DEBUG - Appended bad frame offsets\n",
      "2022-01-20 18:22:35,422 - kbackground.kbackground - DEBUG - Creating `sigma_w_inv`\n",
      "2022-01-20 18:22:38,739 - kbackground.kbackground - DEBUG - Created `sigma_w_inv`\n",
      "2022-01-20 18:22:38,740 - kbackground.kbackground - DEBUG - Creating `B`\n",
      "2022-01-20 18:22:38,997 - kbackground.kbackground - DEBUG - Created `B`\n",
      "2022-01-20 18:22:38,998 - kbackground.kbackground - DEBUG - Solving for `w`\n",
      "2022-01-20 18:22:52,861 - kbackground.kbackground - DEBUG - Solved for `w`\n",
      "2022-01-20 18:22:52,909 - kbackground.kbackground - DEBUG - Building full model\n",
      "2022-01-20 18:22:53,110 - kbackground.kbackground - DEBUG - Built\n"
     ]
    }
   ],
   "source": [
    "e = Estimator(cadencenos[0], np.hstack([r[k] - 170, r[k], r[k] + 170]), np.hstack([c[k]] * 3), np.hstack([f[:, k], f[:, k], f[:, k]]))"
   ]
  },
  {
   "cell_type": "code",
   "execution_count": null,
   "id": "1eacae39-95f4-4f3a-b79c-75e84313dcdb",
   "metadata": {},
   "outputs": [],
   "source": [
    "e.plot();"
   ]
  },
  {
   "cell_type": "markdown",
   "id": "f306c674-7959-4475-a193-322a2efe8781",
   "metadata": {},
   "source": [
    "### Correction for faint pixels\n",
    "\n",
    "Below we show the correction for a subset of the faint pixels in this dataset. The correction largely removes the long term trends from the dataset."
   ]
  },
  {
   "cell_type": "code",
   "execution_count": null,
   "id": "1a3df3ec-5107-4d93-905e-696d52dbbdb1",
   "metadata": {},
   "outputs": [],
   "source": [
    "dim_pix = np.where(np.diff(np.nanpercentile(e.flux, (5, 95), axis=0), axis=0)[0] < 80)[0]\n",
    "fig, ax = plt.subplots(4, 4, figsize=(8, 8), sharex=True, sharey=True)\n",
    "kdx = -1\n",
    "for idx, jdx in enumerate(np.random.choice(dim_pix, 16)):\n",
    "    if idx % 4 == 0:\n",
    "        kdx += 1\n",
    "    ax[kdx, idx % 4].plot(tpf.time.value, e.flux[:, jdx], label='Data', c='grey')\n",
    "    ax[kdx, idx % 4].plot(tpf.time.value, e.flux[:, jdx] - e.model[:, jdx], label='Data', c='k')\n",
    "    ax[kdx, idx % 4].plot(tpf.time.value, e.model[:, jdx], label='Model', c='r')\n",
    "    ax[kdx, idx % 4].set(ylim=(-100, ax[kdx, idx % 4].get_ylim()[1]))"
   ]
  },
  {
   "cell_type": "code",
   "execution_count": null,
   "id": "7dc2ae81-7c70-4003-97d8-3f5f7cd818ba",
   "metadata": {},
   "outputs": [],
   "source": []
  }
 ],
 "metadata": {
  "kernelspec": {
   "display_name": "Python 3 (ipykernel)",
   "language": "python",
   "name": "python3"
  },
  "language_info": {
   "codemirror_mode": {
    "name": "ipython",
    "version": 3
   },
   "file_extension": ".py",
   "mimetype": "text/x-python",
   "name": "python",
   "nbconvert_exporter": "python",
   "pygments_lexer": "ipython3",
   "version": "3.8.7"
  }
 },
 "nbformat": 4,
 "nbformat_minor": 5
}
